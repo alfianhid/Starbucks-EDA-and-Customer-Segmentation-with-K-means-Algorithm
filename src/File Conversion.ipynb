{
  "nbformat": 4,
  "nbformat_minor": 0,
  "metadata": {
    "colab": {
      "provenance": []
    },
    "kernelspec": {
      "name": "python3",
      "display_name": "Python 3"
    },
    "language_info": {
      "name": "python"
    }
  },
  "cells": [
    {
      "cell_type": "code",
      "execution_count": null,
      "metadata": {
        "colab": {
          "base_uri": "https://localhost:8080/"
        },
        "id": "1bjKAH-lRFyo",
        "outputId": "0d836f7e-d91e-4f4f-f1d1-470388e09aa3"
      },
      "outputs": [
        {
          "output_type": "stream",
          "name": "stdout",
          "text": [
            "Mounted at /content/drive\n"
          ]
        },
        {
          "output_type": "execute_result",
          "data": {
            "text/plain": [
              "((14825, 10), (272388, 8), (148431, 26), (14825, 27), (14825, 5), (14825, 3))"
            ]
          },
          "metadata": {},
          "execution_count": 1
        }
      ],
      "source": [
        "import csv\n",
        "import pandas as pd\n",
        "import pickle as pkl\n",
        "from google.colab import drive\n",
        "\n",
        "# Data\n",
        "drive.mount('/content/drive', force_remount=True)\n",
        "\n",
        "profile = pd.read_pickle('/content/drive/My Drive/data/out-segmentation/profile.pkl')\n",
        "transcript = pd.read_pickle('/content/drive/My Drive/data/out-segmentation/transcript.pkl')\n",
        "offers = pd.read_pickle('/content/drive/My Drive/data/out-segmentation/offers.pkl')\n",
        "fmt = pd.read_pickle('/content/drive/My Drive/data/out-segmentation/fmt.pkl')\n",
        "\n",
        "normalized = pd.read_pickle('/content/drive/My Drive/data/out-segmentation/normalization.pkl')\n",
        "pca = pd.read_pickle('/content/drive/My Drive/data/out-segmentation/pca.pkl')\n",
        "\n",
        "# Dimension of Data\n",
        "profile.shape, transcript.shape, offers.shape, fmt.shape, normalized.shape, pca.shape"
      ]
    },
    {
      "cell_type": "code",
      "source": [
        "profile.to_csv('/content/drive/My Drive/data/out-segmentation/profile.csv')\n",
        "transcript.to_csv('/content/drive/My Drive/data/out-segmentation/transcript.csv')\n",
        "offers.to_csv('/content/drive/My Drive/data/out-segmentation/offers.csv')\n",
        "fmt.to_csv('/content/drive/My Drive/data/out-segmentation/fmt.csv')\n",
        "\n",
        "normalized.to_csv('/content/drive/My Drive/data/out-segmentation/normalization.csv')\n",
        "pca.to_csv('/content/drive/My Drive/data/out-segmentation/pca.csv')"
      ],
      "metadata": {
        "id": "IEWSpjJtfnw8"
      },
      "execution_count": null,
      "outputs": []
    },
    {
      "cell_type": "code",
      "source": [
        "# CSV to XLSX Conversion\n",
        "pro = pd.read_csv('/content/drive/My Drive/data/out-segmentation/profile.csv', sep=',', header=None, engine='python')\n",
        "tra = pd.read_csv('/content/drive/My Drive/data/out-segmentation/transcript.csv', sep=',', header=None, engine='python')\n",
        "off = pd.read_csv('/content/drive/My Drive/data/out-segmentation/offers.csv', sep=',', header=None, engine='python')\n",
        "fmt = pd.read_csv('/content/drive/My Drive/data/out-segmentation/fmt.csv', sep=',', header=None, engine='python')\n",
        "nor = pd.read_csv('/content/drive/My Drive/data/out-segmentation/normalization.csv',sep=',', header=None, engine='python')\n",
        "pca = pd.read_csv('/content/drive/My Drive/data/out-segmentation/pca.csv', sep=',', header=None, engine='python')\n",
        "\n",
        "pro.to_excel('/content/drive/My Drive/data/out-segmentation/profile.xlsx')\n",
        "tra.to_excel('/content/drive/My Drive/data/out-segmentation/transcript.xlsx')\n",
        "off.to_excel('/content/drive/My Drive/data/out-segmentation/offers.xlsx')\n",
        "fmt.to_excel('/content/drive/My Drive/data/out-segmentation/fmt.xlsx')\n",
        "nor.to_excel('/content/drive/My Drive/data/out-segmentation/normalization.xlsx')\n",
        "pca.to_excel('/content/drive/My Drive/data/out-segmentation/pca.xlsx')"
      ],
      "metadata": {
        "id": "0r1ppohndDps"
      },
      "execution_count": null,
      "outputs": []
    }
  ]
}